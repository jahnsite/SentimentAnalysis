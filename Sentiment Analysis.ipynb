{
 "cells": [
  {
   "cell_type": "markdown",
   "id": "92cf7171",
   "metadata": {},
   "source": [
    "# Lexicon Based Approach: Vader Sentiment Analysis"
   ]
  },
  {
   "cell_type": "code",
   "execution_count": 18,
   "id": "3eeecd93",
   "metadata": {},
   "outputs": [],
   "source": [
    "import numpy as np\n",
    "import pandas as pd\n",
    "from pandas import DataFrame\n",
    "import matplotlib.pyplot as plt\n",
    "\n",
    "from wordcloud import WordCloud\n",
    "from sklearn.metrics import f1_score"
   ]
  },
  {
   "cell_type": "code",
   "execution_count": 19,
   "id": "1565a4d6",
   "metadata": {
    "scrolled": true
   },
   "outputs": [
    {
     "data": {
      "text/html": [
       "<div>\n",
       "<style scoped>\n",
       "    .dataframe tbody tr th:only-of-type {\n",
       "        vertical-align: middle;\n",
       "    }\n",
       "\n",
       "    .dataframe tbody tr th {\n",
       "        vertical-align: top;\n",
       "    }\n",
       "\n",
       "    .dataframe thead th {\n",
       "        text-align: right;\n",
       "    }\n",
       "</style>\n",
       "<table border=\"1\" class=\"dataframe\">\n",
       "  <thead>\n",
       "    <tr style=\"text-align: right;\">\n",
       "      <th></th>\n",
       "      <th>Id</th>\n",
       "      <th>ProductId</th>\n",
       "      <th>UserId</th>\n",
       "      <th>ProfileName</th>\n",
       "      <th>HelpfulnessNumerator</th>\n",
       "      <th>HelpfulnessDenominator</th>\n",
       "      <th>Score</th>\n",
       "      <th>Time</th>\n",
       "      <th>Summary</th>\n",
       "      <th>Text</th>\n",
       "    </tr>\n",
       "  </thead>\n",
       "  <tbody>\n",
       "    <tr>\n",
       "      <th>0</th>\n",
       "      <td>1</td>\n",
       "      <td>B001E4KFG0</td>\n",
       "      <td>A3SGXH7AUHU8GW</td>\n",
       "      <td>delmartian</td>\n",
       "      <td>1</td>\n",
       "      <td>1</td>\n",
       "      <td>5</td>\n",
       "      <td>1303862400</td>\n",
       "      <td>Good Quality Dog Food</td>\n",
       "      <td>I have bought several of the Vitality canned d...</td>\n",
       "    </tr>\n",
       "    <tr>\n",
       "      <th>1</th>\n",
       "      <td>2</td>\n",
       "      <td>B00813GRG4</td>\n",
       "      <td>A1D87F6ZCVE5NK</td>\n",
       "      <td>dll pa</td>\n",
       "      <td>0</td>\n",
       "      <td>0</td>\n",
       "      <td>1</td>\n",
       "      <td>1346976000</td>\n",
       "      <td>Not as Advertised</td>\n",
       "      <td>Product arrived labeled as Jumbo Salted Peanut...</td>\n",
       "    </tr>\n",
       "    <tr>\n",
       "      <th>2</th>\n",
       "      <td>3</td>\n",
       "      <td>B000LQOCH0</td>\n",
       "      <td>ABXLMWJIXXAIN</td>\n",
       "      <td>Natalia Corres \"Natalia Corres\"</td>\n",
       "      <td>1</td>\n",
       "      <td>1</td>\n",
       "      <td>4</td>\n",
       "      <td>1219017600</td>\n",
       "      <td>\"Delight\" says it all</td>\n",
       "      <td>This is a confection that has been around a fe...</td>\n",
       "    </tr>\n",
       "    <tr>\n",
       "      <th>3</th>\n",
       "      <td>4</td>\n",
       "      <td>B000UA0QIQ</td>\n",
       "      <td>A395BORC6FGVXV</td>\n",
       "      <td>Karl</td>\n",
       "      <td>3</td>\n",
       "      <td>3</td>\n",
       "      <td>2</td>\n",
       "      <td>1307923200</td>\n",
       "      <td>Cough Medicine</td>\n",
       "      <td>If you are looking for the secret ingredient i...</td>\n",
       "    </tr>\n",
       "    <tr>\n",
       "      <th>4</th>\n",
       "      <td>5</td>\n",
       "      <td>B006K2ZZ7K</td>\n",
       "      <td>A1UQRSCLF8GW1T</td>\n",
       "      <td>Michael D. Bigham \"M. Wassir\"</td>\n",
       "      <td>0</td>\n",
       "      <td>0</td>\n",
       "      <td>5</td>\n",
       "      <td>1350777600</td>\n",
       "      <td>Great taffy</td>\n",
       "      <td>Great taffy at a great price.  There was a wid...</td>\n",
       "    </tr>\n",
       "  </tbody>\n",
       "</table>\n",
       "</div>"
      ],
      "text/plain": [
       "   Id   ProductId          UserId                      ProfileName  \\\n",
       "0   1  B001E4KFG0  A3SGXH7AUHU8GW                       delmartian   \n",
       "1   2  B00813GRG4  A1D87F6ZCVE5NK                           dll pa   \n",
       "2   3  B000LQOCH0   ABXLMWJIXXAIN  Natalia Corres \"Natalia Corres\"   \n",
       "3   4  B000UA0QIQ  A395BORC6FGVXV                             Karl   \n",
       "4   5  B006K2ZZ7K  A1UQRSCLF8GW1T    Michael D. Bigham \"M. Wassir\"   \n",
       "\n",
       "   HelpfulnessNumerator  HelpfulnessDenominator  Score        Time  \\\n",
       "0                     1                       1      5  1303862400   \n",
       "1                     0                       0      1  1346976000   \n",
       "2                     1                       1      4  1219017600   \n",
       "3                     3                       3      2  1307923200   \n",
       "4                     0                       0      5  1350777600   \n",
       "\n",
       "                 Summary                                               Text  \n",
       "0  Good Quality Dog Food  I have bought several of the Vitality canned d...  \n",
       "1      Not as Advertised  Product arrived labeled as Jumbo Salted Peanut...  \n",
       "2  \"Delight\" says it all  This is a confection that has been around a fe...  \n",
       "3         Cough Medicine  If you are looking for the secret ingredient i...  \n",
       "4            Great taffy  Great taffy at a great price.  There was a wid...  "
      ]
     },
     "execution_count": 19,
     "metadata": {},
     "output_type": "execute_result"
    }
   ],
   "source": [
    "df_initial = pd.read_csv('Reviews.csv')\n",
    "df_initial.head()\n"
   ]
  },
  {
   "cell_type": "code",
   "execution_count": 20,
   "id": "5b19b581",
   "metadata": {
    "scrolled": false
   },
   "outputs": [
    {
     "data": {
      "text/html": [
       "<div>\n",
       "<style scoped>\n",
       "    .dataframe tbody tr th:only-of-type {\n",
       "        vertical-align: middle;\n",
       "    }\n",
       "\n",
       "    .dataframe tbody tr th {\n",
       "        vertical-align: top;\n",
       "    }\n",
       "\n",
       "    .dataframe thead th {\n",
       "        text-align: right;\n",
       "    }\n",
       "</style>\n",
       "<table border=\"1\" class=\"dataframe\">\n",
       "  <thead>\n",
       "    <tr style=\"text-align: right;\">\n",
       "      <th></th>\n",
       "      <th>Score</th>\n",
       "      <th>Summary</th>\n",
       "      <th>Text</th>\n",
       "    </tr>\n",
       "  </thead>\n",
       "  <tbody>\n",
       "    <tr>\n",
       "      <th>0</th>\n",
       "      <td>5</td>\n",
       "      <td>Good Quality Dog Food</td>\n",
       "      <td>I have bought several of the Vitality canned d...</td>\n",
       "    </tr>\n",
       "    <tr>\n",
       "      <th>1</th>\n",
       "      <td>1</td>\n",
       "      <td>Not as Advertised</td>\n",
       "      <td>Product arrived labeled as Jumbo Salted Peanut...</td>\n",
       "    </tr>\n",
       "    <tr>\n",
       "      <th>2</th>\n",
       "      <td>4</td>\n",
       "      <td>\"Delight\" says it all</td>\n",
       "      <td>This is a confection that has been around a fe...</td>\n",
       "    </tr>\n",
       "    <tr>\n",
       "      <th>3</th>\n",
       "      <td>2</td>\n",
       "      <td>Cough Medicine</td>\n",
       "      <td>If you are looking for the secret ingredient i...</td>\n",
       "    </tr>\n",
       "    <tr>\n",
       "      <th>4</th>\n",
       "      <td>5</td>\n",
       "      <td>Great taffy</td>\n",
       "      <td>Great taffy at a great price.  There was a wid...</td>\n",
       "    </tr>\n",
       "  </tbody>\n",
       "</table>\n",
       "</div>"
      ],
      "text/plain": [
       "   Score                Summary  \\\n",
       "0      5  Good Quality Dog Food   \n",
       "1      1      Not as Advertised   \n",
       "2      4  \"Delight\" says it all   \n",
       "3      2         Cough Medicine   \n",
       "4      5            Great taffy   \n",
       "\n",
       "                                                Text  \n",
       "0  I have bought several of the Vitality canned d...  \n",
       "1  Product arrived labeled as Jumbo Salted Peanut...  \n",
       "2  This is a confection that has been around a fe...  \n",
       "3  If you are looking for the secret ingredient i...  \n",
       "4  Great taffy at a great price.  There was a wid...  "
      ]
     },
     "execution_count": 20,
     "metadata": {},
     "output_type": "execute_result"
    }
   ],
   "source": [
    "df = df_initial.drop(['Id', 'ProductId', 'UserId', 'ProfileName','HelpfulnessNumerator','HelpfulnessDenominator','Time'], axis = 1)\n",
    "df.head()"
   ]
  },
  {
   "cell_type": "code",
   "execution_count": 21,
   "id": "0472a756",
   "metadata": {},
   "outputs": [
    {
     "data": {
      "text/plain": [
       "0    I have bought several of the Vitality canned d...\n",
       "1    Product arrived labeled as Jumbo Salted Peanut...\n",
       "2    This is a confection that has been around a fe...\n",
       "3    If you are looking for the secret ingredient i...\n",
       "4    Great taffy at a great price.  There was a wid...\n",
       "Name: Text, dtype: object"
      ]
     },
     "execution_count": 21,
     "metadata": {},
     "output_type": "execute_result"
    }
   ],
   "source": [
    "df.Text.head()"
   ]
  },
  {
   "cell_type": "code",
   "execution_count": 22,
   "id": "ee4cf1b6",
   "metadata": {},
   "outputs": [
    {
     "name": "stdout",
     "output_type": "stream",
     "text": [
      "Requirement already satisfied: textblob in c:\\users\\jahnavi kolakaluri\\appdata\\local\\programs\\python\\python37\\lib\\site-packages (0.15.3)\n",
      "Requirement already satisfied: nltk>=3.1 in c:\\users\\jahnavi kolakaluri\\appdata\\local\\programs\\python\\python37\\lib\\site-packages (from textblob) (3.6.2)\n",
      "Requirement already satisfied: joblib in c:\\users\\jahnavi kolakaluri\\appdata\\local\\programs\\python\\python37\\lib\\site-packages (from nltk>=3.1->textblob) (1.0.1)\n",
      "Requirement already satisfied: click in c:\\users\\jahnavi kolakaluri\\appdata\\local\\programs\\python\\python37\\lib\\site-packages (from nltk>=3.1->textblob) (8.0.1)\n",
      "Requirement already satisfied: regex in c:\\users\\jahnavi kolakaluri\\appdata\\local\\programs\\python\\python37\\lib\\site-packages (from nltk>=3.1->textblob) (2021.4.4)\n",
      "Requirement already satisfied: tqdm in c:\\users\\jahnavi kolakaluri\\appdata\\local\\programs\\python\\python37\\lib\\site-packages (from nltk>=3.1->textblob) (4.61.0)\n",
      "Requirement already satisfied: importlib-metadata in c:\\users\\jahnavi kolakaluri\\appdata\\local\\programs\\python\\python37\\lib\\site-packages (from click->nltk>=3.1->textblob) (4.3.1)\n",
      "Requirement already satisfied: colorama in c:\\users\\jahnavi kolakaluri\\appdata\\local\\programs\\python\\python37\\lib\\site-packages (from click->nltk>=3.1->textblob) (0.4.4)\n",
      "Requirement already satisfied: typing-extensions>=3.6.4 in c:\\users\\jahnavi kolakaluri\\appdata\\local\\programs\\python\\python37\\lib\\site-packages (from importlib-metadata->click->nltk>=3.1->textblob) (3.10.0.0)\n",
      "Requirement already satisfied: zipp>=0.5 in c:\\users\\jahnavi kolakaluri\\appdata\\local\\programs\\python\\python37\\lib\\site-packages (from importlib-metadata->click->nltk>=3.1->textblob) (3.4.1)\n"
     ]
    }
   ],
   "source": [
    "! pip install textblob"
   ]
  },
  {
   "cell_type": "code",
   "execution_count": 23,
   "id": "34b7ec4f",
   "metadata": {},
   "outputs": [
    {
     "name": "stderr",
     "output_type": "stream",
     "text": [
      "[nltk_data] Downloading package stopwords to C:\\Users\\Jahnavi\n",
      "[nltk_data]     Kolakaluri\\AppData\\Roaming\\nltk_data...\n",
      "[nltk_data]   Package stopwords is already up-to-date!\n"
     ]
    }
   ],
   "source": [
    "import nltk\n",
    "nltk.download('stopwords')\n",
    "from textblob import TextBlob\n",
    "from textblob import Word\n",
    "\n"
   ]
  },
  {
   "cell_type": "code",
   "execution_count": 24,
   "id": "819931f8",
   "metadata": {},
   "outputs": [],
   "source": [
    "df['Text'] = df['Text'].apply(lambda x: \" \".join(x.lower() for x in x.split()))"
   ]
  },
  {
   "cell_type": "code",
   "execution_count": 25,
   "id": "9faabf58",
   "metadata": {
    "scrolled": true
   },
   "outputs": [
    {
     "name": "stderr",
     "output_type": "stream",
     "text": [
      "c:\\users\\jahnavi kolakaluri\\appdata\\local\\programs\\python\\python37\\lib\\site-packages\\ipykernel_launcher.py:2: FutureWarning: The default value of regex will change from True to False in a future version.\n",
      "  \n"
     ]
    },
    {
     "data": {
      "text/plain": [
       "0    i have bought several of the vitality canned d...\n",
       "1    product arrived labeled as jumbo salted peanut...\n",
       "2    this is a confection that has been around a fe...\n",
       "3    if you are looking for the secret ingredient i...\n",
       "4    great taffy at a great price there was a wide ...\n",
       "Name: Text, dtype: object"
      ]
     },
     "execution_count": 25,
     "metadata": {},
     "output_type": "execute_result"
    }
   ],
   "source": [
    "#removing special characters\n",
    "df['Text'] = df['Text'].str.replace('[^\\w\\s]',\"\")\n",
    "df.Text.head(5)"
   ]
  },
  {
   "cell_type": "code",
   "execution_count": 26,
   "id": "126fe624",
   "metadata": {},
   "outputs": [
    {
     "data": {
      "text/plain": [
       "0    bought several vitality canned dog food produc...\n",
       "1    product arrived labeled jumbo salted peanutsth...\n",
       "2    confection around centuries light pillowy citr...\n",
       "3    looking secret ingredient robitussin believe f...\n",
       "4    great taffy great price wide assortment yummy ...\n",
       "Name: Text, dtype: object"
      ]
     },
     "execution_count": 26,
     "metadata": {},
     "output_type": "execute_result"
    }
   ],
   "source": [
    "#removal of stopwords\n",
    "from nltk.corpus import stopwords\n",
    "\n",
    "stop = stopwords.words('english')\n",
    "df['Text'] = df['Text'].apply(lambda x: \" \".join(x for x in x.split() if x not in stop))\n",
    "df.Text.head()"
   ]
  },
  {
   "cell_type": "code",
   "execution_count": 27,
   "id": "1dedfa4d",
   "metadata": {},
   "outputs": [],
   "source": [
    "#spelling correction\n",
    "\n",
    "#df['Text'] = df['Text'].apply(lambda x: str(TextBlob(x).correct()))\n",
    "#df.Text.head(5)"
   ]
  },
  {
   "cell_type": "code",
   "execution_count": 28,
   "id": "51930d65",
   "metadata": {
    "scrolled": true
   },
   "outputs": [
    {
     "name": "stderr",
     "output_type": "stream",
     "text": [
      "[nltk_data] Downloading package wordnet to C:\\Users\\Jahnavi\n",
      "[nltk_data]     Kolakaluri\\AppData\\Roaming\\nltk_data...\n",
      "[nltk_data]   Package wordnet is already up-to-date!\n"
     ]
    },
    {
     "data": {
      "text/plain": [
       "0    bought several vitality canned dog food produc...\n",
       "1    product arrived labeled jumbo salted peanutsth...\n",
       "2    confection around century light pillowy citrus...\n",
       "Name: Text, dtype: object"
      ]
     },
     "execution_count": 28,
     "metadata": {},
     "output_type": "execute_result"
    }
   ],
   "source": [
    "#lemmatisation\n",
    "#import nltk\n",
    "#.download('wordnet')\n",
    "\n",
    "#df['Text']  = df['Text'].apply(lambda x: \" \".join([Word(word).lemmatize() for word in x.split()]))\n",
    "#df.Text.head(3)"
   ]
  },
  {
   "cell_type": "code",
   "execution_count": 29,
   "id": "7bafe050",
   "metadata": {},
   "outputs": [
    {
     "name": "stdout",
     "output_type": "stream",
     "text": [
      "Requirement already satisfied: vaderSentiment in c:\\users\\jahnavi kolakaluri\\appdata\\local\\programs\\python\\python37\\lib\\site-packages (3.3.2)\n",
      "Requirement already satisfied: requests in c:\\users\\jahnavi kolakaluri\\appdata\\local\\programs\\python\\python37\\lib\\site-packages (from vaderSentiment) (2.25.1)\n",
      "Requirement already satisfied: urllib3<1.27,>=1.21.1 in c:\\users\\jahnavi kolakaluri\\appdata\\local\\programs\\python\\python37\\lib\\site-packages (from requests->vaderSentiment) (1.26.5)\n",
      "Requirement already satisfied: certifi>=2017.4.17 in c:\\users\\jahnavi kolakaluri\\appdata\\local\\programs\\python\\python37\\lib\\site-packages (from requests->vaderSentiment) (2021.5.30)\n",
      "Requirement already satisfied: chardet<5,>=3.0.2 in c:\\users\\jahnavi kolakaluri\\appdata\\local\\programs\\python\\python37\\lib\\site-packages (from requests->vaderSentiment) (4.0.0)\n",
      "Requirement already satisfied: idna<3,>=2.5 in c:\\users\\jahnavi kolakaluri\\appdata\\local\\programs\\python\\python37\\lib\\site-packages (from requests->vaderSentiment) (2.10)\n"
     ]
    }
   ],
   "source": [
    "! pip install vaderSentiment"
   ]
  },
  {
   "cell_type": "code",
   "execution_count": 30,
   "id": "78161def",
   "metadata": {
    "scrolled": true
   },
   "outputs": [],
   "source": [
    "from matplotlib import pyplot as plt\n",
    "import seaborn as sns\n",
    "import re\n",
    "import os\n",
    "import sys\n",
    "import ast\n",
    "plt.style.use('fivethirtyeight')\n",
    "\n",
    "cp = sns.color_palette()\n",
    "from vaderSentiment.vaderSentiment import SentimentIntensityAnalyzer\n",
    "analyzer = SentimentIntensityAnalyzer()\n"
   ]
  },
  {
   "cell_type": "code",
   "execution_count": 31,
   "id": "f693b61b",
   "metadata": {},
   "outputs": [
    {
     "data": {
      "text/html": [
       "<div>\n",
       "<style scoped>\n",
       "    .dataframe tbody tr th:only-of-type {\n",
       "        vertical-align: middle;\n",
       "    }\n",
       "\n",
       "    .dataframe tbody tr th {\n",
       "        vertical-align: top;\n",
       "    }\n",
       "\n",
       "    .dataframe thead th {\n",
       "        text-align: right;\n",
       "    }\n",
       "</style>\n",
       "<table border=\"1\" class=\"dataframe\">\n",
       "  <thead>\n",
       "    <tr style=\"text-align: right;\">\n",
       "      <th></th>\n",
       "      <th>neg</th>\n",
       "      <th>neu</th>\n",
       "      <th>pos</th>\n",
       "      <th>compound</th>\n",
       "    </tr>\n",
       "  </thead>\n",
       "  <tbody>\n",
       "    <tr>\n",
       "      <th>0</th>\n",
       "      <td>0.000</td>\n",
       "      <td>0.503</td>\n",
       "      <td>0.497</td>\n",
       "      <td>0.9413</td>\n",
       "    </tr>\n",
       "    <tr>\n",
       "      <th>1</th>\n",
       "      <td>0.129</td>\n",
       "      <td>0.762</td>\n",
       "      <td>0.110</td>\n",
       "      <td>-0.1027</td>\n",
       "    </tr>\n",
       "    <tr>\n",
       "      <th>2</th>\n",
       "      <td>0.130</td>\n",
       "      <td>0.587</td>\n",
       "      <td>0.283</td>\n",
       "      <td>0.8532</td>\n",
       "    </tr>\n",
       "    <tr>\n",
       "      <th>3</th>\n",
       "      <td>0.000</td>\n",
       "      <td>0.854</td>\n",
       "      <td>0.146</td>\n",
       "      <td>0.4404</td>\n",
       "    </tr>\n",
       "    <tr>\n",
       "      <th>4</th>\n",
       "      <td>0.000</td>\n",
       "      <td>0.369</td>\n",
       "      <td>0.631</td>\n",
       "      <td>0.9468</td>\n",
       "    </tr>\n",
       "  </tbody>\n",
       "</table>\n",
       "</div>"
      ],
      "text/plain": [
       "     neg    neu    pos  compound\n",
       "0  0.000  0.503  0.497    0.9413\n",
       "1  0.129  0.762  0.110   -0.1027\n",
       "2  0.130  0.587  0.283    0.8532\n",
       "3  0.000  0.854  0.146    0.4404\n",
       "4  0.000  0.369  0.631    0.9468"
      ]
     },
     "execution_count": 31,
     "metadata": {},
     "output_type": "execute_result"
    }
   ],
   "source": [
    "emptyline=[]\n",
    "\n",
    "for row in df['Text']:\n",
    "    vs=analyzer.polarity_scores(row)\n",
    "    emptyline.append(vs)\n",
    "    \n",
    "df_senti = pd.DataFrame(emptyline)\n",
    "df_senti.head()"
   ]
  },
  {
   "cell_type": "code",
   "execution_count": 32,
   "id": "cce4a730",
   "metadata": {
    "scrolled": false
   },
   "outputs": [
    {
     "data": {
      "text/html": [
       "<div>\n",
       "<style scoped>\n",
       "    .dataframe tbody tr th:only-of-type {\n",
       "        vertical-align: middle;\n",
       "    }\n",
       "\n",
       "    .dataframe tbody tr th {\n",
       "        vertical-align: top;\n",
       "    }\n",
       "\n",
       "    .dataframe thead th {\n",
       "        text-align: right;\n",
       "    }\n",
       "</style>\n",
       "<table border=\"1\" class=\"dataframe\">\n",
       "  <thead>\n",
       "    <tr style=\"text-align: right;\">\n",
       "      <th></th>\n",
       "      <th>Score</th>\n",
       "      <th>Summary</th>\n",
       "      <th>Text</th>\n",
       "      <th>neg</th>\n",
       "      <th>neu</th>\n",
       "      <th>pos</th>\n",
       "      <th>compound</th>\n",
       "    </tr>\n",
       "  </thead>\n",
       "  <tbody>\n",
       "    <tr>\n",
       "      <th>0</th>\n",
       "      <td>5</td>\n",
       "      <td>Good Quality Dog Food</td>\n",
       "      <td>bought several vitality canned dog food produc...</td>\n",
       "      <td>0.000</td>\n",
       "      <td>0.503</td>\n",
       "      <td>0.497</td>\n",
       "      <td>0.9413</td>\n",
       "    </tr>\n",
       "    <tr>\n",
       "      <th>1</th>\n",
       "      <td>1</td>\n",
       "      <td>Not as Advertised</td>\n",
       "      <td>product arrived labeled jumbo salted peanutsth...</td>\n",
       "      <td>0.129</td>\n",
       "      <td>0.762</td>\n",
       "      <td>0.110</td>\n",
       "      <td>-0.1027</td>\n",
       "    </tr>\n",
       "    <tr>\n",
       "      <th>2</th>\n",
       "      <td>4</td>\n",
       "      <td>\"Delight\" says it all</td>\n",
       "      <td>confection around century light pillowy citrus...</td>\n",
       "      <td>0.130</td>\n",
       "      <td>0.587</td>\n",
       "      <td>0.283</td>\n",
       "      <td>0.8532</td>\n",
       "    </tr>\n",
       "  </tbody>\n",
       "</table>\n",
       "</div>"
      ],
      "text/plain": [
       "   Score                Summary  \\\n",
       "0      5  Good Quality Dog Food   \n",
       "1      1      Not as Advertised   \n",
       "2      4  \"Delight\" says it all   \n",
       "\n",
       "                                                Text    neg    neu    pos  \\\n",
       "0  bought several vitality canned dog food produc...  0.000  0.503  0.497   \n",
       "1  product arrived labeled jumbo salted peanutsth...  0.129  0.762  0.110   \n",
       "2  confection around century light pillowy citrus...  0.130  0.587  0.283   \n",
       "\n",
       "   compound  \n",
       "0    0.9413  \n",
       "1   -0.1027  \n",
       "2    0.8532  "
      ]
     },
     "execution_count": 32,
     "metadata": {},
     "output_type": "execute_result"
    }
   ],
   "source": [
    "df_full = pd.concat([df,df_senti], axis = 1)\n",
    "df_full.head(3)"
   ]
  },
  {
   "cell_type": "code",
   "execution_count": 43,
   "id": "83b7e773",
   "metadata": {
    "scrolled": true
   },
   "outputs": [
    {
     "data": {
      "text/html": [
       "<div>\n",
       "<style scoped>\n",
       "    .dataframe tbody tr th:only-of-type {\n",
       "        vertical-align: middle;\n",
       "    }\n",
       "\n",
       "    .dataframe tbody tr th {\n",
       "        vertical-align: top;\n",
       "    }\n",
       "\n",
       "    .dataframe thead th {\n",
       "        text-align: right;\n",
       "    }\n",
       "</style>\n",
       "<table border=\"1\" class=\"dataframe\">\n",
       "  <thead>\n",
       "    <tr style=\"text-align: right;\">\n",
       "      <th></th>\n",
       "      <th>Score</th>\n",
       "      <th>Summary</th>\n",
       "      <th>Text</th>\n",
       "      <th>neg</th>\n",
       "      <th>neu</th>\n",
       "      <th>pos</th>\n",
       "      <th>compound</th>\n",
       "      <th>Sentiment</th>\n",
       "      <th>Label</th>\n",
       "    </tr>\n",
       "  </thead>\n",
       "  <tbody>\n",
       "    <tr>\n",
       "      <th>0</th>\n",
       "      <td>5</td>\n",
       "      <td>Good Quality Dog Food</td>\n",
       "      <td>bought several vitality canned dog food produc...</td>\n",
       "      <td>0.000</td>\n",
       "      <td>0.503</td>\n",
       "      <td>0.497</td>\n",
       "      <td>0.9413</td>\n",
       "      <td>Positive</td>\n",
       "      <td>Positive</td>\n",
       "    </tr>\n",
       "    <tr>\n",
       "      <th>1</th>\n",
       "      <td>1</td>\n",
       "      <td>Not as Advertised</td>\n",
       "      <td>product arrived labeled jumbo salted peanutsth...</td>\n",
       "      <td>0.129</td>\n",
       "      <td>0.762</td>\n",
       "      <td>0.110</td>\n",
       "      <td>-0.1027</td>\n",
       "      <td>Negative</td>\n",
       "      <td>Negative</td>\n",
       "    </tr>\n",
       "    <tr>\n",
       "      <th>2</th>\n",
       "      <td>4</td>\n",
       "      <td>\"Delight\" says it all</td>\n",
       "      <td>confection around century light pillowy citrus...</td>\n",
       "      <td>0.130</td>\n",
       "      <td>0.587</td>\n",
       "      <td>0.283</td>\n",
       "      <td>0.8532</td>\n",
       "      <td>Positive</td>\n",
       "      <td>Positive</td>\n",
       "    </tr>\n",
       "    <tr>\n",
       "      <th>3</th>\n",
       "      <td>2</td>\n",
       "      <td>Cough Medicine</td>\n",
       "      <td>looking secret ingredient robitussin believe f...</td>\n",
       "      <td>0.000</td>\n",
       "      <td>0.854</td>\n",
       "      <td>0.146</td>\n",
       "      <td>0.4404</td>\n",
       "      <td>Positive</td>\n",
       "      <td>Negative</td>\n",
       "    </tr>\n",
       "    <tr>\n",
       "      <th>4</th>\n",
       "      <td>5</td>\n",
       "      <td>Great taffy</td>\n",
       "      <td>great taffy great price wide assortment yummy ...</td>\n",
       "      <td>0.000</td>\n",
       "      <td>0.369</td>\n",
       "      <td>0.631</td>\n",
       "      <td>0.9468</td>\n",
       "      <td>Positive</td>\n",
       "      <td>Positive</td>\n",
       "    </tr>\n",
       "    <tr>\n",
       "      <th>5</th>\n",
       "      <td>4</td>\n",
       "      <td>Nice Taffy</td>\n",
       "      <td>got wild hair taffy ordered five pound bag taf...</td>\n",
       "      <td>0.045</td>\n",
       "      <td>0.652</td>\n",
       "      <td>0.303</td>\n",
       "      <td>0.9136</td>\n",
       "      <td>Positive</td>\n",
       "      <td>Positive</td>\n",
       "    </tr>\n",
       "    <tr>\n",
       "      <th>6</th>\n",
       "      <td>5</td>\n",
       "      <td>Great!  Just as good as the expensive brands!</td>\n",
       "      <td>saltwater taffy great flavor soft chewy candy ...</td>\n",
       "      <td>0.000</td>\n",
       "      <td>0.548</td>\n",
       "      <td>0.452</td>\n",
       "      <td>0.9463</td>\n",
       "      <td>Positive</td>\n",
       "      <td>Positive</td>\n",
       "    </tr>\n",
       "    <tr>\n",
       "      <th>7</th>\n",
       "      <td>5</td>\n",
       "      <td>Wonderful, tasty taffy</td>\n",
       "      <td>taffy good soft chewy flavor amazing would def...</td>\n",
       "      <td>0.000</td>\n",
       "      <td>0.287</td>\n",
       "      <td>0.713</td>\n",
       "      <td>0.9313</td>\n",
       "      <td>Positive</td>\n",
       "      <td>Positive</td>\n",
       "    </tr>\n",
       "    <tr>\n",
       "      <th>8</th>\n",
       "      <td>5</td>\n",
       "      <td>Yay Barley</td>\n",
       "      <td>right im mostly sprouting cat eat grass love r...</td>\n",
       "      <td>0.000</td>\n",
       "      <td>0.724</td>\n",
       "      <td>0.276</td>\n",
       "      <td>0.6369</td>\n",
       "      <td>Positive</td>\n",
       "      <td>Positive</td>\n",
       "    </tr>\n",
       "    <tr>\n",
       "      <th>9</th>\n",
       "      <td>5</td>\n",
       "      <td>Healthy Dog Food</td>\n",
       "      <td>healthy dog food good digestion also good smal...</td>\n",
       "      <td>0.000</td>\n",
       "      <td>0.585</td>\n",
       "      <td>0.415</td>\n",
       "      <td>0.8176</td>\n",
       "      <td>Positive</td>\n",
       "      <td>Positive</td>\n",
       "    </tr>\n",
       "  </tbody>\n",
       "</table>\n",
       "</div>"
      ],
      "text/plain": [
       "   Score                                        Summary  \\\n",
       "0      5                          Good Quality Dog Food   \n",
       "1      1                              Not as Advertised   \n",
       "2      4                          \"Delight\" says it all   \n",
       "3      2                                 Cough Medicine   \n",
       "4      5                                    Great taffy   \n",
       "5      4                                     Nice Taffy   \n",
       "6      5  Great!  Just as good as the expensive brands!   \n",
       "7      5                         Wonderful, tasty taffy   \n",
       "8      5                                     Yay Barley   \n",
       "9      5                               Healthy Dog Food   \n",
       "\n",
       "                                                Text    neg    neu    pos  \\\n",
       "0  bought several vitality canned dog food produc...  0.000  0.503  0.497   \n",
       "1  product arrived labeled jumbo salted peanutsth...  0.129  0.762  0.110   \n",
       "2  confection around century light pillowy citrus...  0.130  0.587  0.283   \n",
       "3  looking secret ingredient robitussin believe f...  0.000  0.854  0.146   \n",
       "4  great taffy great price wide assortment yummy ...  0.000  0.369  0.631   \n",
       "5  got wild hair taffy ordered five pound bag taf...  0.045  0.652  0.303   \n",
       "6  saltwater taffy great flavor soft chewy candy ...  0.000  0.548  0.452   \n",
       "7  taffy good soft chewy flavor amazing would def...  0.000  0.287  0.713   \n",
       "8  right im mostly sprouting cat eat grass love r...  0.000  0.724  0.276   \n",
       "9  healthy dog food good digestion also good smal...  0.000  0.585  0.415   \n",
       "\n",
       "   compound Sentiment     Label  \n",
       "0    0.9413  Positive  Positive  \n",
       "1   -0.1027  Negative  Negative  \n",
       "2    0.8532  Positive  Positive  \n",
       "3    0.4404  Positive  Negative  \n",
       "4    0.9468  Positive  Positive  \n",
       "5    0.9136  Positive  Positive  \n",
       "6    0.9463  Positive  Positive  \n",
       "7    0.9313  Positive  Positive  \n",
       "8    0.6369  Positive  Positive  \n",
       "9    0.8176  Positive  Positive  "
      ]
     },
     "execution_count": 43,
     "metadata": {},
     "output_type": "execute_result"
    }
   ],
   "source": [
    "import numpy as np\n",
    "df_full['Sentiment'] = np.where(df_full['compound'] >= 0, 'Positive', 'Negative')\n",
    "df_full.head(10)"
   ]
  },
  {
   "cell_type": "code",
   "execution_count": 34,
   "id": "3d0da8b8",
   "metadata": {},
   "outputs": [],
   "source": [
    "#result = df_full['Sentiment'].value_counts()\n",
    "#result.plot(kind = 'bar', rot=0, colour=['green','red']);"
   ]
  },
  {
   "cell_type": "code",
   "execution_count": 35,
   "id": "f8198f17",
   "metadata": {},
   "outputs": [
    {
     "data": {
      "text/html": [
       "<div>\n",
       "<style scoped>\n",
       "    .dataframe tbody tr th:only-of-type {\n",
       "        vertical-align: middle;\n",
       "    }\n",
       "\n",
       "    .dataframe tbody tr th {\n",
       "        vertical-align: top;\n",
       "    }\n",
       "\n",
       "    .dataframe thead th {\n",
       "        text-align: right;\n",
       "    }\n",
       "</style>\n",
       "<table border=\"1\" class=\"dataframe\">\n",
       "  <thead>\n",
       "    <tr style=\"text-align: right;\">\n",
       "      <th></th>\n",
       "      <th>Score</th>\n",
       "      <th>Summary</th>\n",
       "      <th>Text</th>\n",
       "      <th>neg</th>\n",
       "      <th>neu</th>\n",
       "      <th>pos</th>\n",
       "      <th>compound</th>\n",
       "      <th>Sentiment</th>\n",
       "      <th>Label</th>\n",
       "    </tr>\n",
       "  </thead>\n",
       "  <tbody>\n",
       "    <tr>\n",
       "      <th>0</th>\n",
       "      <td>5</td>\n",
       "      <td>Good Quality Dog Food</td>\n",
       "      <td>bought several vitality canned dog food produc...</td>\n",
       "      <td>0.000</td>\n",
       "      <td>0.503</td>\n",
       "      <td>0.497</td>\n",
       "      <td>0.9413</td>\n",
       "      <td>Positive</td>\n",
       "      <td>Positive</td>\n",
       "    </tr>\n",
       "    <tr>\n",
       "      <th>1</th>\n",
       "      <td>1</td>\n",
       "      <td>Not as Advertised</td>\n",
       "      <td>product arrived labeled jumbo salted peanutsth...</td>\n",
       "      <td>0.129</td>\n",
       "      <td>0.762</td>\n",
       "      <td>0.110</td>\n",
       "      <td>-0.1027</td>\n",
       "      <td>Negative</td>\n",
       "      <td>Negative</td>\n",
       "    </tr>\n",
       "    <tr>\n",
       "      <th>2</th>\n",
       "      <td>4</td>\n",
       "      <td>\"Delight\" says it all</td>\n",
       "      <td>confection around century light pillowy citrus...</td>\n",
       "      <td>0.130</td>\n",
       "      <td>0.587</td>\n",
       "      <td>0.283</td>\n",
       "      <td>0.8532</td>\n",
       "      <td>Positive</td>\n",
       "      <td>Positive</td>\n",
       "    </tr>\n",
       "    <tr>\n",
       "      <th>3</th>\n",
       "      <td>2</td>\n",
       "      <td>Cough Medicine</td>\n",
       "      <td>looking secret ingredient robitussin believe f...</td>\n",
       "      <td>0.000</td>\n",
       "      <td>0.854</td>\n",
       "      <td>0.146</td>\n",
       "      <td>0.4404</td>\n",
       "      <td>Positive</td>\n",
       "      <td>Negative</td>\n",
       "    </tr>\n",
       "    <tr>\n",
       "      <th>4</th>\n",
       "      <td>5</td>\n",
       "      <td>Great taffy</td>\n",
       "      <td>great taffy great price wide assortment yummy ...</td>\n",
       "      <td>0.000</td>\n",
       "      <td>0.369</td>\n",
       "      <td>0.631</td>\n",
       "      <td>0.9468</td>\n",
       "      <td>Positive</td>\n",
       "      <td>Positive</td>\n",
       "    </tr>\n",
       "  </tbody>\n",
       "</table>\n",
       "</div>"
      ],
      "text/plain": [
       "   Score                Summary  \\\n",
       "0      5  Good Quality Dog Food   \n",
       "1      1      Not as Advertised   \n",
       "2      4  \"Delight\" says it all   \n",
       "3      2         Cough Medicine   \n",
       "4      5            Great taffy   \n",
       "\n",
       "                                                Text    neg    neu    pos  \\\n",
       "0  bought several vitality canned dog food produc...  0.000  0.503  0.497   \n",
       "1  product arrived labeled jumbo salted peanutsth...  0.129  0.762  0.110   \n",
       "2  confection around century light pillowy citrus...  0.130  0.587  0.283   \n",
       "3  looking secret ingredient robitussin believe f...  0.000  0.854  0.146   \n",
       "4  great taffy great price wide assortment yummy ...  0.000  0.369  0.631   \n",
       "\n",
       "   compound Sentiment     Label  \n",
       "0    0.9413  Positive  Positive  \n",
       "1   -0.1027  Negative  Negative  \n",
       "2    0.8532  Positive  Positive  \n",
       "3    0.4404  Positive  Negative  \n",
       "4    0.9468  Positive  Positive  "
      ]
     },
     "execution_count": 35,
     "metadata": {},
     "output_type": "execute_result"
    }
   ],
   "source": [
    "#converting score to label sentiment for calucating evalutation metrics\n",
    "        \n",
    "import numpy as np\n",
    "df_full['Label'] = np.where(df_full['Score'] >= 3, 'Positive', 'Negative')\n",
    "df_full.head(5)\n",
    "        "
   ]
  },
  {
   "cell_type": "code",
   "execution_count": 36,
   "id": "9d03110c",
   "metadata": {},
   "outputs": [],
   "source": [
    "from sklearn.metrics import classification_report, confusion_matrix, accuracy_score"
   ]
  },
  {
   "cell_type": "code",
   "execution_count": 40,
   "id": "863a0de0",
   "metadata": {},
   "outputs": [
    {
     "data": {
      "text/plain": [
       "5    363122\n",
       "4     80655\n",
       "1     52268\n",
       "3     42640\n",
       "2     29769\n",
       "Name: Score, dtype: int64"
      ]
     },
     "execution_count": 40,
     "metadata": {},
     "output_type": "execute_result"
    }
   ],
   "source": [
    "df_full.Score.value_counts()"
   ]
  },
  {
   "cell_type": "code",
   "execution_count": 41,
   "id": "2a3477e8",
   "metadata": {},
   "outputs": [
    {
     "data": {
      "text/plain": [
       "Positive    524076\n",
       "Negative     44378\n",
       "Name: Sentiment, dtype: int64"
      ]
     },
     "execution_count": 41,
     "metadata": {},
     "output_type": "execute_result"
    }
   ],
   "source": [
    "df_full.Sentiment.value_counts()"
   ]
  },
  {
   "cell_type": "code",
   "execution_count": 42,
   "id": "0399cfcd",
   "metadata": {},
   "outputs": [
    {
     "data": {
      "text/plain": [
       "Positive    486417\n",
       "Negative     82037\n",
       "Name: Label, dtype: int64"
      ]
     },
     "execution_count": 42,
     "metadata": {},
     "output_type": "execute_result"
    }
   ],
   "source": [
    "df_full.Label.value_counts()"
   ]
  },
  {
   "cell_type": "code",
   "execution_count": 37,
   "id": "3fc5b242",
   "metadata": {},
   "outputs": [
    {
     "name": "stdout",
     "output_type": "stream",
     "text": [
      "[[ 24738  57299]\n",
      " [ 19640 466777]]\n"
     ]
    }
   ],
   "source": [
    "print(confusion_matrix(df_full['Label'],df_full['Sentiment']))"
   ]
  },
  {
   "cell_type": "code",
   "execution_count": 38,
   "id": "5905fcec",
   "metadata": {},
   "outputs": [
    {
     "name": "stdout",
     "output_type": "stream",
     "text": [
      "              precision    recall  f1-score   support\n",
      "\n",
      "    Negative       0.56      0.30      0.39     82037\n",
      "    Positive       0.89      0.96      0.92    486417\n",
      "\n",
      "    accuracy                           0.86    568454\n",
      "   macro avg       0.72      0.63      0.66    568454\n",
      "weighted avg       0.84      0.86      0.85    568454\n",
      "\n"
     ]
    }
   ],
   "source": [
    "print(classification_report(df_full['Label'],df_full['Sentiment']))"
   ]
  },
  {
   "cell_type": "code",
   "execution_count": 39,
   "id": "ef3287c3",
   "metadata": {},
   "outputs": [
    {
     "name": "stdout",
     "output_type": "stream",
     "text": [
      "0.8646521970115436\n"
     ]
    }
   ],
   "source": [
    "print(accuracy_score(df_full['Label'],df_full['Sentiment']))"
   ]
  },
  {
   "cell_type": "markdown",
   "id": "901b1662",
   "metadata": {},
   "source": [
    "# Machine Learning Approach: LSTM"
   ]
  },
  {
   "cell_type": "code",
   "execution_count": 94,
   "id": "675215de",
   "metadata": {},
   "outputs": [],
   "source": [
    "import pandas as pd\n",
    "import numpy as np\n",
    "from nltk.corpus import stopwords\n",
    "from sklearn.model_selection import train_test_split\n",
    "from tensorflow.keras.preprocessing.text import Tokenizer\n",
    "from tensorflow.keras.preprocessing.sequence import pad_sequences\n",
    "from tensorflow.keras.models import Sequential\n",
    "from tensorflow.keras.layers import Embedding, LSTM, Dense\n",
    "from tensorflow.keras.callbacks import ModelCheckpoint\n",
    "from tensorflow.keras.models import load_model\n",
    "import re\n"
   ]
  },
  {
   "cell_type": "code",
   "execution_count": 95,
   "id": "0b027d43",
   "metadata": {},
   "outputs": [
    {
     "data": {
      "text/html": [
       "<div>\n",
       "<style scoped>\n",
       "    .dataframe tbody tr th:only-of-type {\n",
       "        vertical-align: middle;\n",
       "    }\n",
       "\n",
       "    .dataframe tbody tr th {\n",
       "        vertical-align: top;\n",
       "    }\n",
       "\n",
       "    .dataframe thead th {\n",
       "        text-align: right;\n",
       "    }\n",
       "</style>\n",
       "<table border=\"1\" class=\"dataframe\">\n",
       "  <thead>\n",
       "    <tr style=\"text-align: right;\">\n",
       "      <th></th>\n",
       "      <th>Id</th>\n",
       "      <th>ProductId</th>\n",
       "      <th>UserId</th>\n",
       "      <th>ProfileName</th>\n",
       "      <th>HelpfulnessNumerator</th>\n",
       "      <th>HelpfulnessDenominator</th>\n",
       "      <th>Score</th>\n",
       "      <th>Time</th>\n",
       "      <th>Summary</th>\n",
       "      <th>Text</th>\n",
       "    </tr>\n",
       "  </thead>\n",
       "  <tbody>\n",
       "    <tr>\n",
       "      <th>0</th>\n",
       "      <td>1</td>\n",
       "      <td>B001E4KFG0</td>\n",
       "      <td>A3SGXH7AUHU8GW</td>\n",
       "      <td>delmartian</td>\n",
       "      <td>1</td>\n",
       "      <td>1</td>\n",
       "      <td>5</td>\n",
       "      <td>1303862400</td>\n",
       "      <td>Good Quality Dog Food</td>\n",
       "      <td>I have bought several of the Vitality canned d...</td>\n",
       "    </tr>\n",
       "    <tr>\n",
       "      <th>1</th>\n",
       "      <td>2</td>\n",
       "      <td>B00813GRG4</td>\n",
       "      <td>A1D87F6ZCVE5NK</td>\n",
       "      <td>dll pa</td>\n",
       "      <td>0</td>\n",
       "      <td>0</td>\n",
       "      <td>1</td>\n",
       "      <td>1346976000</td>\n",
       "      <td>Not as Advertised</td>\n",
       "      <td>Product arrived labeled as Jumbo Salted Peanut...</td>\n",
       "    </tr>\n",
       "    <tr>\n",
       "      <th>2</th>\n",
       "      <td>3</td>\n",
       "      <td>B000LQOCH0</td>\n",
       "      <td>ABXLMWJIXXAIN</td>\n",
       "      <td>Natalia Corres \"Natalia Corres\"</td>\n",
       "      <td>1</td>\n",
       "      <td>1</td>\n",
       "      <td>4</td>\n",
       "      <td>1219017600</td>\n",
       "      <td>\"Delight\" says it all</td>\n",
       "      <td>This is a confection that has been around a fe...</td>\n",
       "    </tr>\n",
       "    <tr>\n",
       "      <th>3</th>\n",
       "      <td>4</td>\n",
       "      <td>B000UA0QIQ</td>\n",
       "      <td>A395BORC6FGVXV</td>\n",
       "      <td>Karl</td>\n",
       "      <td>3</td>\n",
       "      <td>3</td>\n",
       "      <td>2</td>\n",
       "      <td>1307923200</td>\n",
       "      <td>Cough Medicine</td>\n",
       "      <td>If you are looking for the secret ingredient i...</td>\n",
       "    </tr>\n",
       "    <tr>\n",
       "      <th>4</th>\n",
       "      <td>5</td>\n",
       "      <td>B006K2ZZ7K</td>\n",
       "      <td>A1UQRSCLF8GW1T</td>\n",
       "      <td>Michael D. Bigham \"M. Wassir\"</td>\n",
       "      <td>0</td>\n",
       "      <td>0</td>\n",
       "      <td>5</td>\n",
       "      <td>1350777600</td>\n",
       "      <td>Great taffy</td>\n",
       "      <td>Great taffy at a great price.  There was a wid...</td>\n",
       "    </tr>\n",
       "  </tbody>\n",
       "</table>\n",
       "</div>"
      ],
      "text/plain": [
       "   Id   ProductId          UserId                      ProfileName  \\\n",
       "0   1  B001E4KFG0  A3SGXH7AUHU8GW                       delmartian   \n",
       "1   2  B00813GRG4  A1D87F6ZCVE5NK                           dll pa   \n",
       "2   3  B000LQOCH0   ABXLMWJIXXAIN  Natalia Corres \"Natalia Corres\"   \n",
       "3   4  B000UA0QIQ  A395BORC6FGVXV                             Karl   \n",
       "4   5  B006K2ZZ7K  A1UQRSCLF8GW1T    Michael D. Bigham \"M. Wassir\"   \n",
       "\n",
       "   HelpfulnessNumerator  HelpfulnessDenominator  Score        Time  \\\n",
       "0                     1                       1      5  1303862400   \n",
       "1                     0                       0      1  1346976000   \n",
       "2                     1                       1      4  1219017600   \n",
       "3                     3                       3      2  1307923200   \n",
       "4                     0                       0      5  1350777600   \n",
       "\n",
       "                 Summary                                               Text  \n",
       "0  Good Quality Dog Food  I have bought several of the Vitality canned d...  \n",
       "1      Not as Advertised  Product arrived labeled as Jumbo Salted Peanut...  \n",
       "2  \"Delight\" says it all  This is a confection that has been around a fe...  \n",
       "3         Cough Medicine  If you are looking for the secret ingredient i...  \n",
       "4            Great taffy  Great taffy at a great price.  There was a wid...  "
      ]
     },
     "execution_count": 95,
     "metadata": {},
     "output_type": "execute_result"
    }
   ],
   "source": [
    "#printing dataset\n",
    "df_initial = pd.read_csv('Reviews.csv')\n",
    "df_initial.head()"
   ]
  },
  {
   "cell_type": "code",
   "execution_count": 105,
   "id": "1d735818",
   "metadata": {},
   "outputs": [
    {
     "name": "stderr",
     "output_type": "stream",
     "text": [
      "c:\\users\\jahnavi kolakaluri\\appdata\\local\\programs\\python\\python37\\lib\\site-packages\\ipykernel_launcher.py:10: FutureWarning: The default value of regex will change from True to False in a future version.\n",
      "  # Remove the CWD from sys.path while we load stuff.\n"
     ]
    },
    {
     "name": "stdout",
     "output_type": "stream",
     "text": [
      "Text\n",
      "0         [i, bought, several, vitality, canned, dog, fo...\n",
      "1         [product, arrived, labeled, jumbo, salted, pea...\n",
      "2         [this, confection, around, centuries, it, ligh...\n",
      "3         [if, looking, secret, ingredient, robitussin, ...\n",
      "4         [great, taffy, great, price, there, wide, asso...\n",
      "                                ...                        \n",
      "568449    [great, sesame, chickenthis, good, better, res...\n",
      "568450    [im, disappointed, flavor, the, chocolate, not...\n",
      "568451    [these, stars, small, give, 1015, one, trainin...\n",
      "568452    [these, best, treats, training, rewarding, dog...\n",
      "568453    [i, satisfied, product, advertised, i, use, ce...\n",
      "Name: Text, Length: 568454, dtype: object \n",
      "\n",
      "sentiment_data\n",
      "0         1\n",
      "1         0\n",
      "2         1\n",
      "3         0\n",
      "4         1\n",
      "         ..\n",
      "568449    1\n",
      "568450    0\n",
      "568451    1\n",
      "568452    1\n",
      "568453    1\n",
      "Name: Label_Sentiment, Length: 568454, dtype: int32 \n",
      "\n"
     ]
    }
   ],
   "source": [
    "#encode sentiments\n",
    "import numpy as np\n",
    "from nltk.corpus import stopwords\n",
    "\n",
    "def load_dataset():\n",
    "    df_initial = pd.read_csv('Reviews.csv')\n",
    "    df = df_initial.drop(['Id', 'ProductId', 'UserId', 'ProfileName','HelpfulnessNumerator','HelpfulnessDenominator','Time'], axis = 1)\n",
    "    \n",
    "    #removing special characters\n",
    "    df['Text'] = df['Text'].str.replace('[^\\w\\s]',\"\")\n",
    "    \n",
    "    #removing stop words\n",
    "    stop = stopwords.words('english')\n",
    "    df['Text'] = df['Text'].apply(lambda x:[x for x in x.split() if x not in stop])\n",
    "    \n",
    "    # converting to lowercase\n",
    "    df['Text'] = df['Text'].apply(lambda x: [x.lower() for x in x])\n",
    "    \n",
    "    \n",
    "    #converting score to label sentiment for calucating evalutation metrics\n",
    "    df['Label_Sentiment'] = np.where(df['Score'] >= 3, 1, 0)\n",
    "    \n",
    "    df.head()\n",
    "    \n",
    "    text_data = df['Text']\n",
    "    sentiment_data = df['Label_Sentiment']\n",
    "    \n",
    "    \n",
    "    sentiment_data = sentiment_data.replace('positive',1)\n",
    "    sentiment_data = sentiment_data.replace('negative',0)\n",
    "    \n",
    "    return text_data, sentiment_data\n",
    "\n",
    "text_data, sentiment_data = load_dataset()\n",
    "\n",
    "print('Text')\n",
    "print(text_data,'\\n')\n",
    "print('sentiment_data')\n",
    "print(sentiment_data,'\\n')"
   ]
  },
  {
   "cell_type": "code",
   "execution_count": 106,
   "id": "c17fb6c4",
   "metadata": {},
   "outputs": [
    {
     "name": "stdout",
     "output_type": "stream",
     "text": [
      "Training set\n",
      "495667    [pb2, amazing, so, much, lower, calories, regu...\n",
      "1322      [almost, identical, ghiradelis, great, chocola...\n",
      "110584    [if, youre, via, fan, like, starbucks, italian...\n",
      "105069    [this, product, really, bring, back, childhood...\n",
      "119865    [the, first, brand, cedar, litter, i, tried, p...\n",
      "                                ...                        \n",
      "300833    [my, dogs, love, although, i, dont, think, eve...\n",
      "131077    [bought, ran, bought, one, make, sparkling, wa...\n",
      "511793    [this, flour, phenomenal, i, purchased, variet...\n",
      "129478    [i, going, agree, dirty, socks, smell, i, actu...\n",
      "44352     [this, product, fresh, shipped, quickly, it, h...\n",
      "Name: Text, Length: 397917, dtype: object \n",
      "\n",
      "99603     [they, saying, dalmatians, shed, twice, year, ...\n",
      "526280    [this, real, thing, unlike, web, page, amazon,...\n",
      "351675    [i, chef, i, absolutely, love, char, crust, it...\n",
      "368392    [my, grandson, beef, jerky, addict, we, dont, ...\n",
      "404566    [i, used, granular, swerve, many, things, grea...\n",
      "                                ...                        \n",
      "544195    [i, used, buy, hrefhttpwwwamazoncomgpproductb0...\n",
      "191558    [i, appreciate, able, buy, larger, economical,...\n",
      "486273    [i, love, product, great, value, especially, s...\n",
      "490818    [this, best, fatfree, cocoa, i, others, best, ...\n",
      "544371    [i, didnt, like, one, house, liked, it, doesnt...\n",
      "Name: Text, Length: 170537, dtype: object \n",
      "\n",
      "Testing set\n",
      "495667    1\n",
      "1322      1\n",
      "110584    1\n",
      "105069    1\n",
      "119865    0\n",
      "         ..\n",
      "300833    1\n",
      "131077    1\n",
      "511793    1\n",
      "129478    0\n",
      "44352     1\n",
      "Name: Label_Sentiment, Length: 397917, dtype: int32 \n",
      "\n",
      "99603     1\n",
      "526280    1\n",
      "351675    1\n",
      "368392    1\n",
      "404566    0\n",
      "         ..\n",
      "544195    1\n",
      "191558    1\n",
      "486273    1\n",
      "490818    1\n",
      "544371    0\n",
      "Name: Label_Sentiment, Length: 170537, dtype: int32\n"
     ]
    }
   ],
   "source": [
    "#30% testing\n",
    "#splitting dataset\n",
    "x_train, x_test, y_train, y_test = train_test_split(text_data, sentiment_data, test_size = 0.3)\n",
    "\n",
    "print('Training set')\n",
    "print(x_train,'\\n')\n",
    "print(x_test,'\\n')\n",
    "print('Testing set')\n",
    "print(y_train,'\\n')\n",
    "print(y_test)"
   ]
  },
  {
   "cell_type": "code",
   "execution_count": 107,
   "id": "26f70936",
   "metadata": {},
   "outputs": [],
   "source": [
    "def get_max_length():\n",
    "    text_length = []\n",
    "    for text in x_train:\n",
    "        text_length.append(len(text))\n",
    "    return int(np.ceil(np.mean(text_length)))"
   ]
  },
  {
   "cell_type": "code",
   "execution_count": 108,
   "id": "776ccb5f",
   "metadata": {},
   "outputs": [
    {
     "name": "stdout",
     "output_type": "stream",
     "text": [
      "Encoded X Training\n",
      " [[ 1979   385    77 ...     0     0     0]\n",
      " [  188  3364 70954 ...     0     0     0]\n",
      " [   44   275  1154 ...     0     0     0]\n",
      " ...\n",
      " [   10   558  4692 ...  2280    37   558]\n",
      " [    1   173   930 ...  2737     1   571]\n",
      " [   10    12   145 ...     0     0     0]] \n",
      "\n",
      "Encoded X Testing\n",
      " [[   26  1068 53461 ...     0     0     0]\n",
      " [   10   185   155 ...     0     0     0]\n",
      " [    1  2237     1 ...     0     0     0]\n",
      " ...\n",
      " [    1    15    12 ...     0     0     0]\n",
      " [   10    32  5314 ...     0     0     0]\n",
      " [    1    94     3 ...     0     0     0]] \n",
      "\n",
      "Maximum text length 48\n"
     ]
    }
   ],
   "source": [
    "#neural networks accept only numeric data, hence using Tokeniser from \n",
    "#tensorflow.keras.preprocessing.text to encode reviews to integers\n",
    "\n",
    "token = Tokenizer(lower=False)\n",
    "token.fit_on_texts(x_train)\n",
    "x_train = token.texts_to_sequences(x_train)\n",
    "x_test = token.texts_to_sequences(x_test)\n",
    "\n",
    "max_length = get_max_length()\n",
    "\n",
    "x_train = pad_sequences(x_train, maxlen = max_length, padding = 'post', truncating='post')\n",
    "x_test = pad_sequences(x_test, maxlen = max_length, padding = 'post', truncating='post')\n",
    "\n",
    "\n",
    "total_words = len(token.word_index) + 1\n",
    "\n",
    "print('Encoded X Training\\n', x_train, '\\n')\n",
    "print('Encoded X Testing\\n', x_test, '\\n')\n",
    "print('Maximum text length',max_length)"
   ]
  },
  {
   "cell_type": "code",
   "execution_count": 159,
   "id": "195ba9dd",
   "metadata": {},
   "outputs": [
    {
     "name": "stdout",
     "output_type": "stream",
     "text": [
      "Model: \"sequential_14\"\n",
      "_________________________________________________________________\n",
      "Layer (type)                 Output Shape              Param #   \n",
      "=================================================================\n",
      "embedding_14 (Embedding)     (None, 48, 32)            6369216   \n",
      "_________________________________________________________________\n",
      "lstm_14 (LSTM)               (None, 64)                24832     \n",
      "_________________________________________________________________\n",
      "dense_14 (Dense)             (None, 1)                 65        \n",
      "=================================================================\n",
      "Total params: 6,394,113\n",
      "Trainable params: 6,394,113\n",
      "Non-trainable params: 0\n",
      "_________________________________________________________________\n",
      "None\n"
     ]
    }
   ],
   "source": [
    "#Embedding layer\n",
    "#LSTM Layer\n",
    "#Forget gate, input gate, cell state, output state\n",
    "#dense state\n",
    "#optimiser adam\n",
    "#loss function binary crossentropy\n",
    "import tensorflow as tf\n",
    "\n",
    "EMBED_DIM = 32\n",
    "LSTM_OUT = 64\n",
    "\n",
    "model = Sequential()\n",
    "model.add(Embedding(total_words, EMBED_DIM, input_length = max_length))\n",
    "model.add(LSTM(LSTM_OUT))\n",
    "model.add(Dense(1,activation='sigmoid'))\n",
    "model.compile(optimizer = 'adam', loss = 'binary_crossentropy', metrics = ['accuracy'])\n",
    "model.compile(optimizer = 'adam', loss = 'binary_crossentropy',metrics=[tf.keras.metrics.Precision(),tf.keras.metrics.Recall()])\n",
    "print(model.summary())\n",
    "\n"
   ]
  },
  {
   "cell_type": "code",
   "execution_count": 160,
   "id": "02d6178f",
   "metadata": {},
   "outputs": [
    {
     "name": "stdout",
     "output_type": "stream",
     "text": [
      "Epoch 1/5\n",
      "199/199 [==============================] - 149s 742ms/step - loss: 0.3100 - precision: 0.8938 - recall: 0.9815\n",
      "Epoch 2/5\n",
      "199/199 [==============================] - 149s 747ms/step - loss: 0.1840 - precision: 0.9469 - recall: 0.9690\n",
      "Epoch 3/5\n",
      "199/199 [==============================] - 149s 746ms/step - loss: 0.1563 - precision: 0.9571 - recall: 0.9728\n",
      "Epoch 4/5\n",
      "199/199 [==============================] - 150s 752ms/step - loss: 0.1348 - precision: 0.9633 - recall: 0.9765\n",
      "Epoch 5/5\n",
      "199/199 [==============================] - 153s 771ms/step - loss: 0.1182 - precision: 0.9678 - recall: 0.9794\n"
     ]
    },
    {
     "data": {
      "text/plain": [
       "<tensorflow.python.keras.callbacks.History at 0x1dfefedab88>"
      ]
     },
     "execution_count": 160,
     "metadata": {},
     "output_type": "execute_result"
    }
   ],
   "source": [
    "model.fit(x_train, y_train, batch_size = 2000, epochs = 5)"
   ]
  },
  {
   "cell_type": "code",
   "execution_count": 161,
   "id": "53c2d02c",
   "metadata": {
    "scrolled": true
   },
   "outputs": [
    {
     "name": "stderr",
     "output_type": "stream",
     "text": [
      "c:\\users\\jahnavi kolakaluri\\appdata\\local\\programs\\python\\python37\\lib\\site-packages\\tensorflow\\python\\keras\\engine\\sequential.py:455: UserWarning: `model.predict_classes()` is deprecated and will be removed after 2021-01-01. Please use instead:* `np.argmax(model.predict(x), axis=-1)`,   if your model does multi-class classification   (e.g. if it uses a `softmax` last-layer activation).* `(model.predict(x) > 0.5).astype(\"int32\")`,   if your model does binary classification   (e.g. if it uses a `sigmoid` last-layer activation).\n",
      "  warnings.warn('`model.predict_classes()` is deprecated and '\n"
     ]
    },
    {
     "name": "stdout",
     "output_type": "stream",
     "text": [
      "Correct prediction: 157902\n",
      "Wrong Prediction: 12635\n",
      "Accuracy: 92.59105062244556\n"
     ]
    }
   ],
   "source": [
    "#testing\n",
    "\n",
    "y_pred = model.predict_classes(x_test, batch_size = 128)\n",
    "\n",
    "true = 0\n",
    "for i, y in enumerate(y_test):\n",
    "    if y == y_pred[i]:\n",
    "        true += 1\n",
    "print('Correct prediction: {}'.format(true))\n",
    "print('Wrong Prediction: {}'.format(len(y_pred) - true))\n",
    "print('Accuracy: {}'.format(true/len(y_pred)*100))\n"
   ]
  },
  {
   "cell_type": "code",
   "execution_count": 163,
   "id": "2c59079e",
   "metadata": {},
   "outputs": [
    {
     "name": "stdout",
     "output_type": "stream",
     "text": [
      "5330/5330 [==============================] - 32s 6ms/step - loss: 0.2104 - precision: 0.9489 - recall: 0.9654\n"
     ]
    },
    {
     "data": {
      "text/plain": [
       "[0.2104382961988449, 0.9488890767097473, 0.9654236435890198]"
      ]
     },
     "execution_count": 163,
     "metadata": {},
     "output_type": "execute_result"
    }
   ],
   "source": [
    "\n",
    "model.evaluate(x_test, y_test, verbose=1)\n",
    "#F1 = 2 * (precision * recall) / (precision + recall)"
   ]
  },
  {
   "cell_type": "code",
   "execution_count": 173,
   "id": "f1658e4e",
   "metadata": {},
   "outputs": [
    {
     "ename": "AttributeError",
     "evalue": "module 'tensorflow.keras.metrics' has no attribute 'confusion_matrix'",
     "output_type": "error",
     "traceback": [
      "\u001b[1;31m---------------------------------------------------------------------------\u001b[0m",
      "\u001b[1;31mAttributeError\u001b[0m                            Traceback (most recent call last)",
      "\u001b[1;32m<ipython-input-173-539a6a2125f4>\u001b[0m in \u001b[0;36m<module>\u001b[1;34m\u001b[0m\n\u001b[0;32m      3\u001b[0m \u001b[1;33m\u001b[0m\u001b[0m\n\u001b[0;32m      4\u001b[0m \u001b[1;31m#tf.keras.metrics.confusion_matrix(y_test, y_pred)\u001b[0m\u001b[1;33m\u001b[0m\u001b[1;33m\u001b[0m\u001b[1;33m\u001b[0m\u001b[0m\n\u001b[1;32m----> 5\u001b[1;33m \u001b[0mmatrix\u001b[0m \u001b[1;33m=\u001b[0m \u001b[0mtf\u001b[0m\u001b[1;33m.\u001b[0m\u001b[0mkeras\u001b[0m\u001b[1;33m.\u001b[0m\u001b[0mmetrics\u001b[0m\u001b[1;33m.\u001b[0m\u001b[0mconfusion_matrix\u001b[0m\u001b[1;33m(\u001b[0m\u001b[0my_test\u001b[0m\u001b[1;33m.\u001b[0m\u001b[0margmax\u001b[0m\u001b[1;33m(\u001b[0m\u001b[0maxis\u001b[0m\u001b[1;33m=\u001b[0m\u001b[1;36m1\u001b[0m\u001b[1;33m)\u001b[0m\u001b[1;33m,\u001b[0m \u001b[0my_pred\u001b[0m\u001b[1;33m.\u001b[0m\u001b[0margmax\u001b[0m\u001b[1;33m(\u001b[0m\u001b[0maxis\u001b[0m\u001b[1;33m=\u001b[0m\u001b[1;36m1\u001b[0m\u001b[1;33m)\u001b[0m\u001b[1;33m)\u001b[0m\u001b[1;33m\u001b[0m\u001b[1;33m\u001b[0m\u001b[0m\n\u001b[0m",
      "\u001b[1;31mAttributeError\u001b[0m: module 'tensorflow.keras.metrics' has no attribute 'confusion_matrix'"
     ]
    }
   ],
   "source": [
    "import tensorflow as tf    \n",
    "from tensorflow import keras  \n",
    "\n",
    "#tf.keras.metrics.confusion_matrix(y_test, y_pred)\n",
    "matrix = tf.keras.metrics.confusion_matrix(y_test.argmax(axis=1), y_pred.argmax(axis=1))"
   ]
  },
  {
   "cell_type": "code",
   "execution_count": null,
   "id": "c9d995cd",
   "metadata": {},
   "outputs": [],
   "source": []
  }
 ],
 "metadata": {
  "kernelspec": {
   "display_name": "Python 3",
   "language": "python",
   "name": "python3"
  },
  "language_info": {
   "codemirror_mode": {
    "name": "ipython",
    "version": 3
   },
   "file_extension": ".py",
   "mimetype": "text/x-python",
   "name": "python",
   "nbconvert_exporter": "python",
   "pygments_lexer": "ipython3",
   "version": "3.7.9"
  }
 },
 "nbformat": 4,
 "nbformat_minor": 5
}
